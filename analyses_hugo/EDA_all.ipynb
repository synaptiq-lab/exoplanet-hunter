{
  "cells": [
    {
      "cell_type": "markdown",
      "metadata": {},
      "source": [
        "# EDA complète (Polars-first) — KOI & TOI\n",
        "\n",
        "Ce notebook regroupe:\n",
        "- Structure, types, valeurs manquantes, distributions\n",
        "- Problèmes: outliers (IQR), duplicats, déséquilibre des classes\n",
        "- Relations: corrélations, paires très corrélées\n",
        "\n",
        "Toutes les analyses sont réalisées séparément pour KOI et TOI.\n"
      ]
    },
    {
      "cell_type": "code",
      "execution_count": null,
      "metadata": {},
      "outputs": [
        {
          "ename": "",
          "evalue": "",
          "output_type": "error",
          "traceback": [
            "\u001b[1;31mRunning cells with 'Python 3.11.9' requires the ipykernel package.\n",
            "\u001b[1;31m<a href='command:jupyter.createPythonEnvAndSelectController'>Create a Python Environment</a> with the required packages.\n",
            "\u001b[1;31mOr install 'ipykernel' using the command: '\"c:/Users/Hugo HOUNTONDJI/AppData/Local/Microsoft/WindowsApps/python3.11.exe\" -m pip install ipykernel -U --user --force-reinstall'"
          ]
        }
      ],
      "source": [
        "# Imports et configuration\n",
        "from __future__ import annotations\n",
        "import os\n",
        "import importlib\n",
        "import matplotlib\n",
        "matplotlib.use(\"Agg\")  # images sauvegardées; on affichera via IPython.display\n",
        "import matplotlib.pyplot as plt\n",
        "from IPython.display import display, Markdown, Image\n",
        "\n",
        "pl = importlib.import_module(\"polars\")\n",
        "pd = importlib.import_module(\"pandas\")\n",
        "\n",
        "# Utilitaires pour l'I/O\n",
        "from analyses_hugo.analyse_explo_1 import (\n",
        "    read_csv_polars,\n",
        "    read_csv_pandas_then_to_polars,\n",
        "    schema_and_missing,\n",
        "    get_numeric_columns,\n",
        "    get_categorical_columns,\n",
        "    numeric_distributions,\n",
        "    outliers_iqr,\n",
        "    duplicates_summary,\n",
        "    class_imbalance,\n",
        "    correlations,\n",
        "    high_correlation_pairs,\n",
        "    save_histograms,\n",
        "    save_barplots,\n",
        "    save_corr_heatmap,\n",
        ")\n",
        "\n",
        "OUT_DIR = os.path.join(\"analyses_hugo\", \"outputs\")\n",
        "FIGS_DIR = os.path.join(OUT_DIR, \"figures\")\n",
        "TABLES_DIR = os.path.join(OUT_DIR, \"tables\")\n",
        "os.makedirs(FIGS_DIR, exist_ok=True)\n",
        "os.makedirs(TABLES_DIR, exist_ok=True)\n",
        "\n",
        "def read_df(path: str):\n",
        "    try:\n",
        "        df, meta = read_csv_polars(path)\n",
        "    except Exception:\n",
        "        df, meta = read_csv_pandas_then_to_polars(path)\n",
        "    display(Markdown(f\"**Lecture** `{path}`: `{meta}`\"))\n",
        "    return df\n",
        "\n"
      ]
    },
    {
      "cell_type": "code",
      "execution_count": null,
      "metadata": {},
      "outputs": [],
      "source": [
        "# Charger KOI et TOI\n",
        "KOI_PATH = os.path.join(\"datasets\", \"KOI.csv\")\n",
        "TOI_PATH = os.path.join(\"datasets\", \"TOI.csv\")\n",
        "\n",
        "df_koi = read_df(KOI_PATH)\n",
        "df_toi = read_df(TOI_PATH)\n",
        "\n",
        "display(Markdown(\"### Dimensions\"))\n",
        "if isinstance(df_koi, pl.DataFrame):\n",
        "    display(Markdown(f\"KOI: {df_koi.height} lignes × {len(df_koi.columns)} colonnes\"))\n",
        "    display(Markdown(f\"TOI: {df_toi.height} lignes × {len(df_toi.columns)} colonnes\"))\n",
        "else:\n",
        "    display(Markdown(f\"KOI: {len(df_koi)} lignes × {len(df_koi.columns)} colonnes\"))\n",
        "    display(Markdown(f\"TOI: {len(df_toi)} lignes × {len(df_toi.columns)} colonnes\"))\n"
      ]
    },
    {
      "cell_type": "code",
      "execution_count": null,
      "metadata": {},
      "outputs": [],
      "source": [
        "# 1) Comprendre les données — structure, manquants, distributions\n",
        "\n",
        "def show_structure_and_missing(df, name: str):\n",
        "    schema_df = schema_and_missing(df)\n",
        "    display(Markdown(f\"#### {name} — Structure & manquants\"))\n",
        "    display(schema_df.head(20).to_pandas() if hasattr(schema_df, 'to_pandas') else schema_df.head(20))\n",
        "\n",
        "    num_cols = get_numeric_columns(df)\n",
        "    num_summary = numeric_distributions(df, num_cols)\n",
        "    display(Markdown(f\"#### {name} — Distributions numériques (résumé)\"))\n",
        "    display(num_summary.head(20).to_pandas() if hasattr(num_summary, 'to_pandas') else num_summary.head(20))\n",
        "\n",
        "show_structure_and_missing(df_koi, \"KOI\")\n",
        "show_structure_and_missing(df_toi, \"TOI\")\n"
      ]
    },
    {
      "cell_type": "code",
      "execution_count": null,
      "metadata": {},
      "outputs": [],
      "source": [
        "# 2) Détection de problèmes — outliers, duplicats, déséquilibre\n",
        "\n",
        "def detect_problems(df, name: str):\n",
        "    num_cols = get_numeric_columns(df)\n",
        "    out_iqr = outliers_iqr(df, num_cols)\n",
        "    display(Markdown(f\"#### {name} — Outliers (IQR)\"))\n",
        "    display(out_iqr.sort(by=[\"outlier_pct\"], reverse=True).head(20).to_pandas() if hasattr(out_iqr, 'sort') else out_iqr.sort_values(\"outlier_pct\", ascending=False).head(20))\n",
        "\n",
        "    dups = duplicates_summary(df)\n",
        "    display(Markdown(f\"#### {name} — Duplicats\"))\n",
        "    display({\"total\": dups[\"total\"], \"duplicates\": dups[\"duplicates\"]})\n",
        "    if dups.get(\"sample\") is not None:\n",
        "        sample = dups[\"sample\"]\n",
        "        display(Markdown(\"Échantillon de duplicats (max 50):\"))\n",
        "        display(sample if not hasattr(sample, 'to_pandas') else sample.to_pandas())\n",
        "\n",
        "    cat_cols = get_categorical_columns(df, max_unique=20)\n",
        "    class_imb = class_imbalance(df, cat_cols)\n",
        "    display(Markdown(f\"#### {name} — Déséquilibre de classes (top catégories)\"))\n",
        "    display(class_imb.sort(by=[\"top_pct\"], reverse=True).head(20).to_pandas() if hasattr(class_imb, 'sort') else class_imb.sort_values(\"top_pct\", ascending=False).head(20))\n",
        "\n",
        "detect_problems(df_koi, \"KOI\")\n",
        "detect_problems(df_toi, \"TOI\")\n"
      ]
    },
    {
      "cell_type": "code",
      "execution_count": null,
      "metadata": {},
      "outputs": [],
      "source": [
        "# 3) Relations — corrélations, paires très corrélées, figures\n",
        "\n",
        "def relations_and_figures(df, name: str):\n",
        "    num_cols = get_numeric_columns(df)\n",
        "    corr_df, _ = correlations(df, num_cols)\n",
        "    display(Markdown(f\"#### {name} — Corrélations (aperçu)\"))\n",
        "    if hasattr(corr_df, 'to_pandas'):\n",
        "        display(corr_df.to_pandas().head(10))\n",
        "    else:\n",
        "        display(corr_df.head(10))\n",
        "\n",
        "    high_pairs = high_correlation_pairs(corr_df, threshold=0.9)\n",
        "    display(Markdown(f\"#### {name} — Paires corrélées (|r|≥0.9)\"))\n",
        "    display(high_pairs.head(30).to_pandas() if hasattr(high_pairs, 'to_pandas') else high_pairs.head(30))\n",
        "\n",
        "    # Générer figures et afficher inline\n",
        "    figs_dir = FIGS_DIR\n",
        "    hist_paths = save_histograms(df, num_cols, figs_dir, max_plots=12, name_prefix=name)\n",
        "    heatmap_path = save_corr_heatmap(corr_df, os.path.join(figs_dir, \"corr_heatmap.png\"), name_prefix=name)\n",
        "\n",
        "    from IPython.display import display\n",
        "    for p in ([heatmap_path] if heatmap_path else []) + hist_paths[:6]:\n",
        "        display(Image(filename=p))\n",
        "\n",
        "    # Barplots pour catégorielles\n",
        "    cat_cols = get_categorical_columns(df, max_unique=20)\n",
        "    bar_paths = save_barplots(df, cat_cols, figs_dir, top_k=12, name_prefix=name)\n",
        "    for p in bar_paths[:6]:\n",
        "        display(Image(filename=p))\n",
        "\n",
        "relations_and_figures(df_koi, \"KOI\")\n",
        "relations_and_figures(df_toi, \"TOI\")\n"
      ]
    }
  ],
  "metadata": {
    "kernelspec": {
      "display_name": "Python 3",
      "language": "python",
      "name": "python3"
    },
    "language_info": {
      "name": "python",
      "version": "3.11.9"
    }
  },
  "nbformat": 4,
  "nbformat_minor": 2
}
